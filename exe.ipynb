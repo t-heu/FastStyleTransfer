{
 "cells": [
  {
   "cell_type": "code",
   "execution_count": null,
   "id": "79d75c41",
   "metadata": {
    "vscode": {
     "languageId": "shellscript"
    }
   },
   "outputs": [],
   "source": [
    "!git clone https://github.com/t-heu/FastStyleTransfer.git\n",
    "%cd FastStyleTransfer"
   ]
  },
  {
   "cell_type": "code",
   "execution_count": null,
   "id": "27d4795a",
   "metadata": {
    "vscode": {
     "languageId": "plaintext"
    }
   },
   "outputs": [],
   "source": [
    "!chmod +x setup.sh\n",
    "!./setup.sh"
   ]
  },
  {
   "cell_type": "code",
   "execution_count": null,
   "id": "584fb5d8",
   "metadata": {
    "vscode": {
     "languageId": "plaintext"
    }
   },
   "outputs": [],
   "source": [
    "!pip install -r requirements.txt"
   ]
  },
  {
   "cell_type": "code",
   "execution_count": null,
   "id": "978f0084",
   "metadata": {
    "vscode": {
     "languageId": "plaintext"
    }
   },
   "outputs": [],
   "source": [
    "!apt-get install -y megatools\n",
    "!megadl 'https://mega.nz/#!jpoEFAwL!8B40hOVEkn5__qgbKx0b-VnzozT_U4fgmm6pegUNNmY' --path ./data/"
   ]
  },
  {
   "cell_type": "code",
   "execution_count": null,
   "id": "678d098a",
   "metadata": {
    "vscode": {
     "languageId": "plaintext"
    }
   },
   "outputs": [],
   "source": [
    "!unzip -q data/train2014.zip -d data/"
   ]
  },
  {
   "cell_type": "code",
   "execution_count": null,
   "id": "e6a3510b",
   "metadata": {
    "vscode": {
     "languageId": "plaintext"
    }
   },
   "outputs": [],
   "source": [
    "!python style.py --checkpoint-dir checkpoints/ghibli_model --style styles/ghibli.png --epochs 1 --batch-size 2"
   ]
  },
  {
   "cell_type": "code",
   "execution_count": null,
   "id": "a75a964e",
   "metadata": {
    "vscode": {
     "languageId": "plaintext"
    }
   },
   "outputs": [],
   "source": [
    "!python evaluate.py --checkpoint checkpoints/ghibli_model --in-path content/dog.jpg --out-path results/output.png"
   ]
  }
 ],
 "metadata": {
  "language_info": {
   "name": "python"
  }
 },
 "nbformat": 4,
 "nbformat_minor": 5
}
